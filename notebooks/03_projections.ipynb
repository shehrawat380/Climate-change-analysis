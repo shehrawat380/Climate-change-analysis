{
 "cells": [
  {
   "cell_type": "markdown",
   "id": "a54377c5",
   "metadata": {},
   "source": [
    "# Climate Change Modeling"
   ]
  },
  {
   "cell_type": "code",
   "execution_count": null,
   "id": "f7179922",
   "metadata": {},
   "outputs": [],
   "source": [
    "# 03 — Projections & Scenarios\n",
    "\n",
    "# --- Hybrid dataset loader ---\n",
    "import os, io\n",
    "import pandas as pd\n",
    "\n",
    "DATA_PATH = \"../data/future_climate_data.csv\"\n",
    "\n",
    "if os.path.exists(DATA_PATH):\n",
    "    print(f\"Loading dataset from {DATA_PATH}\")\n",
    "    df = pd.read_csv(DATA_PATH)\n",
    "else:\n",
    "    try:\n",
    "        from google.colab import files\n",
    "        uploaded = files.upload()\n",
    "        file_name = list(uploaded.keys())[0]\n",
    "        df = pd.read_csv(io.BytesIO(uploaded[file_name]))\n",
    "        print(f\"Loaded uploaded file: {file_name}\")\n",
    "    except Exception as e:\n",
    "        from tkinter import Tk, filedialog\n",
    "        Tk().withdraw()\n",
    "        file_path = filedialog.askopenfilename(filetypes=[(\"CSV files\",\"*.csv\")])\n",
    "        df = pd.read_csv(file_path)\n",
    "        print(f\"Loaded local file: {file_path}\")\n",
    "\n",
    "# --- Load trained model ---\n",
    "import pickle\n",
    "from sklearn.preprocessing import StandardScaler\n",
    "\n",
    "ART_DIR = \"../artifacts\"\n",
    "MODEL_PTH = os.path.join(ART_DIR, \"rf_model.pkl\")\n",
    "SCALER_PTH = os.path.join(ART_DIR, \"rf_scaler.pkl\")\n",
    "\n",
    "with open(MODEL_PTH, \"rb\") as f:\n",
    "    model = pickle.load(f)\n",
    "with open(SCALER_PTH, \"rb\") as f:\n",
    "    scaler: StandardScaler = pickle.load(f)\n",
    "\n",
    "# Ensure numeric features used in training are present\n",
    "num_cols = df.select_dtypes(\"number\").columns.tolist()\n",
    "X_future = scaler.transform(df[num_cols])\n",
    "preds = model.predict(X_future)\n",
    "df[\"prediction\"] = preds\n",
    "\n",
    "print(df.head())"
   ]
  },
  {
   "cell_type": "code",
   "execution_count": null,
   "id": "b29168d8",
   "metadata": {},
   "outputs": [],
   "source": [
    "# Save projections\n",
    "out_path = \"../reports/projections.csv\"\n",
    "df.to_csv(out_path, index=False)\n",
    "print(\"Saved:\", out_path)"
   ]
  }
 ],
 "metadata": {
  "language_info": {
   "name": "python"
  }
 },
 "nbformat": 4,
 "nbformat_minor": 5
}
