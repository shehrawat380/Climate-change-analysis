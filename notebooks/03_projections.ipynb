{
 "cells": [
  {
   "cell_type": "markdown",
   "id": "a54377c5",
   "metadata": {},
   "source": [
    "# Climate Change Modeling"
   ]
  },
  {
   "cell_type": "code",
   "execution_count": null,
   "id": "f7179922",
   "metadata": {},
   "outputs": [],
   "source": [
    "# 03 — Projections & Scenarios\n",
    "import pandas as pd, numpy as np, pickle, os\n",
    "from sklearn.preprocessing import StandardScaler\n",
    "\n",
    "ART_DIR = \"../artifacts\"\n",
    "MODEL_PTH = os.path.join(ART_DIR, \"rf_model.pkl\")\n",
    "SCALER_PTH = os.path.join(ART_DIR, \"rf_scaler.pkl\")\n",
    "\n",
    "with open(MODEL_PTH, \"rb\") as f:\n",
    "    model = pickle.load(f)\n",
    "with open(SCALER_PTH, \"rb\") as f:\n",
    "    scaler: StandardScaler = pickle.load(f)\n",
    "\n",
    "# Load future data (edit path)\n",
    "FUTURE_PATH = \"../data/future_climate_data.csv\"  # create this with your scenarios\n",
    "future = pd.read_csv(FUTURE_PATH)\n",
    "\n",
    "# Ensure numeric features used in training are present\n",
    "num_cols = future.select_dtypes(\"number\").columns.tolist()\n",
    "X_future = scaler.transform(future[num_cols])\n",
    "preds = model.predict(X_future)\n",
    "future[\"prediction\"] = preds\n",
    "future.head()"
   ]
  },
  {
   "cell_type": "code",
   "execution_count": null,
   "id": "b29168d8",
   "metadata": {},
   "outputs": [],
   "source": [
    "# Save projections\n",
    "out_path = \"../reports/projections.csv\"\n",
    "future.to_csv(out_path, index=False)\n",
    "print(\"Saved:\", out_path)"
   ]
  }
 ],
 "metadata": {},
 "nbformat": 4,
 "nbformat_minor": 5
}
