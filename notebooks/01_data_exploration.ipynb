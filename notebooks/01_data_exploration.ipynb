{
 "cells": [
  {
   "cell_type": "markdown",
   "id": "f709ef8a",
   "metadata": {},
   "source": [
    "# Climate Change Modeling"
   ]
  },
  {
   "cell_type": "code",
   "execution_count": null,
   "id": "675ba75e",
   "metadata": {},
   "outputs": [],
   "source": [
    "# 01 — Data Exploration\n",
    "DATA_PATH = \"../data/climate_data.csv\"  # <-- change to your file\n",
    "import pandas as pd, numpy as np\n",
    "from src.data_preprocessing import load_csv, basic_cleaning\n",
    "from src.visualization import plot_target_distribution, correlation_heatmap\n",
    "df = load_csv(DATA_PATH)\n",
    "df = basic_cleaning(df)\n",
    "print(df.shape); df.head()"
   ]
  },
  {
   "cell_type": "code",
   "execution_count": null,
   "id": "1acbf981",
   "metadata": {},
   "outputs": [],
   "source": [
    "# Basic info\n",
    "df.info()\n",
    "df.describe(include='all').T.head(30)"
   ]
  },
  {
   "cell_type": "code",
   "execution_count": null,
   "id": "d8ec0a35",
   "metadata": {},
   "outputs": [],
   "source": [
    "# Pick a target if known (edit this)\n",
    "target = next((c for c in df.columns if 'anomaly' in c.lower() or 'target' in c.lower()), df.select_dtypes('number').columns.tolist()[0])\n",
    "print('Using target:', target)"
   ]
  },
  {
   "cell_type": "code",
   "execution_count": null,
   "id": "7242d8d3",
   "metadata": {},
   "outputs": [],
   "source": [
    "# Plot target distribution\n",
    "from matplotlib import pyplot as plt\n",
    "plot_target_distribution(df, target)"
   ]
  },
  {
   "cell_type": "code",
   "execution_count": null,
   "id": "1836b7a9",
   "metadata": {},
   "outputs": [],
   "source": [
    "# Correlations\n",
    "correlation_heatmap(df, top_k=20, target=target)"
   ]
  },
  {
   "cell_type": "code",
   "execution_count": null,
   "id": "145f458a",
   "metadata": {},
   "outputs": [],
   "source": [
    "# Save a cleaned copy (optional)\n",
    "df.to_csv('../data/clean_climate.csv', index=False)\n",
    "print('Saved clean dataset to data/clean_climate.csv')"
   ]
  }
 ],
 "metadata": {},
 "nbformat": 4,
 "nbformat_minor": 5
}
